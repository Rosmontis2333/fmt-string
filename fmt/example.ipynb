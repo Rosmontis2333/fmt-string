{
 "cells": [
  {
   "cell_type": "code",
   "execution_count": 1,
   "metadata": {},
   "outputs": [],
   "source": [
    "\n",
    "from fmt import fmt, utils"
   ]
  },
  {
   "cell_type": "code",
   "metadata": {
    "ExecuteTime": {
     "end_time": "2025-05-25T05:30:58.465232Z",
     "start_time": "2025-05-25T05:30:58.016210Z"
    }
   },
   "source": [
    "map_design = utils.load_map_design(\"map.png\", size=[400, 200])\n",
    "\n",
    "planner = fmt.FMTPlanner(map_design, n_samples=1000, r_n=20, path_resolution=0.1, rr=1.0, max_search_iter=10000)\n",
    "%time path_info = planner.plan([180, 20], [20, 380])\n",
    "utils.visualize_result(map_design, planner, path_info)\n",
    "\n",
    "# using Euclidean heuristics\n",
    "%time path_info = planner.plan([180, 20], [20, 380], heuristic_weight=1.0)\n",
    "utils.visualize_result(map_design, planner, path_info)\n"
   ],
   "outputs": [
    {
     "ename": "NameError",
     "evalue": "name 'utils' is not defined",
     "output_type": "error",
     "traceback": [
      "\u001B[31m---------------------------------------------------------------------------\u001B[39m",
      "\u001B[31mNameError\u001B[39m                                 Traceback (most recent call last)",
      "\u001B[36mCell\u001B[39m\u001B[36m \u001B[39m\u001B[32mIn[1]\u001B[39m\u001B[32m, line 1\u001B[39m\n\u001B[32m----> \u001B[39m\u001B[32m1\u001B[39m map_design = \u001B[43mutils\u001B[49m.load_map_design(\u001B[33m\"\u001B[39m\u001B[33mmap.png\u001B[39m\u001B[33m\"\u001B[39m, size=[\u001B[32m400\u001B[39m, \u001B[32m200\u001B[39m])\n\u001B[32m      3\u001B[39m planner = fmt.FMTPlanner(map_design, n_samples=\u001B[32m1000\u001B[39m, r_n=\u001B[32m20\u001B[39m, path_resolution=\u001B[32m0.1\u001B[39m, rr=\u001B[32m1.0\u001B[39m, max_search_iter=\u001B[32m10000\u001B[39m)\n\u001B[32m      4\u001B[39m get_ipython().run_line_magic(\u001B[33m'\u001B[39m\u001B[33mtime\u001B[39m\u001B[33m'\u001B[39m, \u001B[33m'\u001B[39m\u001B[33mpath_info = planner.plan([180, 20], [20, 380])\u001B[39m\u001B[33m'\u001B[39m)\n",
      "\u001B[31mNameError\u001B[39m: name 'utils' is not defined"
     ]
    }
   ],
   "execution_count": 1
  },
  {
   "cell_type": "code",
   "execution_count": null,
   "metadata": {},
   "outputs": [],
   "source": []
  }
 ],
 "metadata": {
  "kernelspec": {
   "display_name": "Python 3",
   "language": "python",
   "name": "python3"
  },
  "language_info": {
   "codemirror_mode": {
    "name": "ipython",
    "version": 3
   },
   "file_extension": ".py",
   "mimetype": "text/x-python",
   "name": "python",
   "nbconvert_exporter": "python",
   "pygments_lexer": "ipython3",
   "version": "3.7.7"
  }
 },
 "nbformat": 4,
 "nbformat_minor": 4
}
